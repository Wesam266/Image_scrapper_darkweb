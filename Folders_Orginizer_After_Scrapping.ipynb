{
 "cells": [
  {
   "cell_type": "code",
   "execution_count": null,
   "metadata": {
    "collapsed": true
   },
   "outputs": [],
   "source": [
    "#This code orginize the scrap into folders where:\n",
    "#    scrap_src: directory to the onion scrap folder.\n",
    "#   scrap_src contains: xxxxxx.onion/img1.png, img2.png...... \n",
    "#   scrap_des: contians: class name/ subclass name/ xxxxx.onion/img1.png img2.png... \n",
    "#   txt_file_classes_dir: a txt file: contians a list of onion names:\n",
    "# example: ['pmpxmhmaxkua3q6g.onion\\tCryptocurrency\\n',\n",
    "#           'uuecxqc4mtzd7ysv.onion\\tDrugs/ Ilegal\\n',\n",
    "#        ]\n",
    "\n",
    "import os\n",
    "import shutil\n",
    "\n",
    "scrap_src = '/home/wesam/datasets/Scraping_Result_09_07_2016/'\n",
    "scrap_des = '/home/wesam/datasets/Orginized_Scraping_Result_09_07_2016/'\n",
    "txt_file_classes_dir = 'pages.txt'\n",
    "\n",
    "# To stip the sorce foldr name ( I had a problem about this in the past)\n",
    "for f in  os.listdir(scrap_src):    \n",
    "    os.rename(scrap_src + f , scrap_src + f.strip())\n",
    "    \n",
    "\n",
    "\n",
    "# Code to delete empty folder in the scrappign dir:s\n",
    "\n",
    "if not os.path.exists(scrap_des):\n",
    "    os.makedirs(scrap_des)    \n",
    "\n",
    "for file in os.listdir(scrap_src):\n",
    "    if not os.listdir(scrap_src + file): \n",
    "        shutil.rmtree(scrap_src + file)\n",
    "\n",
    "# File pages contains the onionedomein\\tclass\n",
    "with open(txt_file_classes_dir , 'r', encoding='utf-8') as ins:\n",
    "    data = ins.readlines()\n",
    "\n",
    "for line in data:\n",
    "    parts = line.split('\\t')\n",
    "    f_name= parts[0].strip()\n",
    "    cat = parts[1].strip()\n",
    "    \n",
    "    cat_dir = scrap_des + cat + '/'\n",
    "    domain_dir_src =  scrap_src + f_name\n",
    "    domain_dir_des = cat_dir + f_name\n",
    "    \n",
    "    \n",
    "    if not os.path.exists(cat_dir):\n",
    "        os.makedirs(cat_dir)\n",
    "        \n",
    "    if not os.path.exists(cat_dir):\n",
    "        os.makedirs(cat_dir)\n",
    "    \n",
    "    if os.path.exists(domain_dir_src): \n",
    "        shutil.copytree(domain_dir_src, domain_dir_des)"
   ]
  }
 ],
 "metadata": {
  "anaconda-cloud": {},
  "kernelspec": {
   "display_name": "Python 3",
   "language": "python",
   "name": "python3"
  },
  "language_info": {
   "codemirror_mode": {
    "name": "ipython",
    "version": 3
   },
   "file_extension": ".py",
   "mimetype": "text/x-python",
   "name": "python",
   "nbconvert_exporter": "python",
   "pygments_lexer": "ipython3",
   "version": "3.5.2"
  }
 },
 "nbformat": 4,
 "nbformat_minor": 2
}
